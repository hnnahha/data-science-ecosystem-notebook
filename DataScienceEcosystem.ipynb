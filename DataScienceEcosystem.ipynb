{
  "metadata": {
    "kernelspec": {
      "name": "python",
      "display_name": "Python (Pyodide)",
      "language": "python"
    },
    "language_info": {
      "codemirror_mode": {
        "name": "python",
        "version": 3
      },
      "file_extension": ".py",
      "mimetype": "text/x-python",
      "name": "python",
      "nbconvert_exporter": "python",
      "pygments_lexer": "ipython3",
      "version": "3.8"
    }
  },
  "nbformat_minor": 4,
  "nbformat": 4,
  "cells": [
    {
      "cell_type": "markdown",
      "source": "# Data Science Tools and Ecosystem Summary\nIn this notebook, Data Science Tools and Ecosystem are summarized.\n\n## Some of the popular languages that Data Scientists use are:\n1. Python\n2. R\n3. Julia\n\n## Some of the commonly used libraries used by Data Scientists include:\n1. NumPy\n2. Pandas\n3. Matplotlib\n\n## Data Science Tools\n\n| Data Science Tools |\n| -------------------|\n| Jupyter Notebooks  |\n| RStudio             |\n| Spyder              |\n\n### Below are a few examples of evaluating arithmetic expressions in Python.",
      "metadata": {}
    },
    {
      "cell_type": "code",
      "source": "# This is a simple arithmetic expression to multiply then add integers.\nresult = (3 * 4) + 5\nresult\n",
      "metadata": {
        "trusted": true
      },
      "outputs": [
        {
          "execution_count": 2,
          "output_type": "execute_result",
          "data": {
            "text/plain": "17"
          },
          "metadata": {}
        }
      ],
      "execution_count": 2
    },
    {
      "cell_type": "code",
      "source": "# This will convert 200 minutes to hours by dividing by 60.\nminutes = 200\nhours = minutes / 60\nhours",
      "metadata": {
        "trusted": true
      },
      "outputs": [
        {
          "execution_count": 4,
          "output_type": "execute_result",
          "data": {
            "text/plain": "3.3333333333333335"
          },
          "metadata": {}
        }
      ],
      "execution_count": 4
    },
    {
      "cell_type": "markdown",
      "source": "**Objectives:**\n\r\n- List popular languages for Data Science.\r\n- Introduce commonly used Data Science libraries.\r\n- Provide examples of arithmetic expressions in Python.\r\n- Demonstrate the conversion of minutes to hours.\r\n- Summarize the Data Science tools and ecosstem.\r\n",
      "metadata": {}
    },
    {
      "cell_type": "markdown",
      "source": "## Author\nHannah Ha",
      "metadata": {}
    }
  ]
}
